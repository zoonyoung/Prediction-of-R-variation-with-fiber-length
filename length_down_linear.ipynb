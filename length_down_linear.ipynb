{
 "cells": [
  {
   "cell_type": "code",
   "execution_count": 2,
   "metadata": {},
   "outputs": [
    {
     "data": {
      "text/plain": [
       "(61, 3)"
      ]
     },
     "execution_count": 2,
     "metadata": {},
     "output_type": "execute_result"
    }
   ],
   "source": [
    "import tensorflow as tf\n",
    "import pandas as pd\n",
    "import numpy as np\n",
    "import matplotlib.pyplot as plt\n",
    "import math\n",
    "%matplotlib inline  \n",
    "data=pd.read_csv(\"dataset/down_data.csv\")\n",
    "data.shape"
   ]
  },
  {
   "cell_type": "code",
   "execution_count": 3,
   "metadata": {},
   "outputs": [],
   "source": [
    "y=data['2'] # length\n",
    "x=data[\"3\"] # Resistance\n",
    "x1=[]\n",
    "y1=[]\n",
    "x2=[]\n",
    "x3=[]\n",
    "for i in range(60):\n",
    "    x1.append(x[i]*0.1) \n",
    "    y1.append(y[i])\n",
    "    x2.append((x[i]**2)*0.0001) # 2차 함수 : 0.0001(down)\n",
    "    x3.append((x[i]**3)*0.00000001)\n",
    "W1=tf.Variable(tf.random_normal([1]),name='weight1')\n",
    "W2=tf.Variable(tf.random_normal([1]),name='weight2')\n",
    "W3=tf.Variable(tf.random_normal([1]),name='weight3')\n",
    "B=tf.Variable(tf.random_normal([1]),name='bias')\n",
    "X1=tf.placeholder(tf.float32)\n",
    "X2=tf.placeholder(tf.float32)\n",
    "X3=tf.placeholder(tf.float32)\n",
    "Y=tf.placeholder(tf.float32)"
   ]
  },
  {
   "cell_type": "code",
   "execution_count": null,
   "metadata": {},
   "outputs": [],
   "source": [
    "hypothesis=B+X1*W1\n",
    "cost=tf.reduce_mean(tf.square(hypothesis-Y))\n",
    "optimizer = tf.train.GradientDescentOptimizer(learning_rate=0.000000001) # 1차 함수 :0.000000001down)\n",
    "train=optimizer.minimize(cost)\n",
    "sess=tf.Session()\n",
    "sess.run(tf.global_variables_initializer())"
   ]
  },
  {
   "cell_type": "code",
   "execution_count": null,
   "metadata": {},
   "outputs": [],
   "source": [
    "for step in range(10000): # 1차함수 만번(down)\n",
    "    cost_val, hy_val, _,w1,b = sess.run([cost, hypothesis, train,W1,B],\n",
    "                                   feed_dict={X1:x1, Y:y1})\n",
    "    if step % 2000 == 0:\n",
    "        print(step, \"Cost: \", cost_val, \"\\nPrediction:\\n\", hy_val,\"\\nW1:{},B:{}\".format(w1,b))"
   ]
  },
  {
   "cell_type": "code",
   "execution_count": null,
   "metadata": {},
   "outputs": [],
   "source": [
    "# W1:[0.00108227],B:[1.1958917]\n",
    "\n",
    "plt.figure(1)\n",
    "plt.title('Linear Regression')\n",
    "plt.xlabel('x')\n",
    "plt.ylabel('y')\n",
    "# 주어진 데이터들을 점으로 표시\n",
    "plt.plot(y1,x1, 'ro')\n",
    "# 예측한 일차함수를 직선으로 표시\n",
    "plt.plot(sess.run(B)+x1*sess.run(W1),x1, 'b')\n",
    "# X=5 일때의 계산 값\n",
    "plt.show()"
   ]
  }
 ],
 "metadata": {
  "kernelspec": {
   "display_name": "Python 3",
   "language": "python",
   "name": "python3"
  },
  "language_info": {
   "codemirror_mode": {
    "name": "ipython",
    "version": 3
   },
   "file_extension": ".py",
   "mimetype": "text/x-python",
   "name": "python",
   "nbconvert_exporter": "python",
   "pygments_lexer": "ipython3",
   "version": "3.5.2"
  }
 },
 "nbformat": 4,
 "nbformat_minor": 2
}
