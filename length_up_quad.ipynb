{
 "cells": [
  {
   "cell_type": "code",
   "execution_count": 1,
   "metadata": {},
   "outputs": [
    {
     "data": {
      "text/plain": [
       "(65, 3)"
      ]
     },
     "execution_count": 1,
     "metadata": {},
     "output_type": "execute_result"
    }
   ],
   "source": [
    "import tensorflow as tf\n",
    "import pandas as pd\n",
    "import numpy as np\n",
    "import matplotlib.pyplot as plt\n",
    "import math\n",
    "%matplotlib inline  \n",
    "data=pd.read_csv(\"dataset/up_data.csv\")\n",
    "data.shape"
   ]
  },
  {
   "cell_type": "code",
   "execution_count": 2,
   "metadata": {},
   "outputs": [],
   "source": [
    "y=data['2'] # length\n",
    "x=data[\"3\"] # Resistance\n",
    "x1=[]\n",
    "y1=[]\n",
    "x2=[]\n",
    "x3=[]\n",
    "for i in range(64):\n",
    "    x1.append(x[i])\n",
    "    y1.append(y[i])\n",
    "    x2.append((x[i]**2)*0.0001) # 2차 함수 : 0.0001\n",
    "    x3.append((x[i]**3)*0.00000001)\n",
    "W1=tf.Variable(tf.random_normal([1]),name='weight1')\n",
    "W2=tf.Variable(tf.random_normal([1]),name='weight2')\n",
    "W3=tf.Variable(tf.random_normal([1]),name='weight3')\n",
    "B=tf.Variable(tf.random_normal([1]),name='bias')\n",
    "X1=tf.placeholder(tf.float32)\n",
    "X2=tf.placeholder(tf.float32)\n",
    "X3=tf.placeholder(tf.float32)\n",
    "Y=tf.placeholder(tf.float32)"
   ]
  },
  {
   "cell_type": "code",
   "execution_count": 3,
   "metadata": {},
   "outputs": [],
   "source": [
    "hypothesis=B+X1*W1+X2*W2\n",
    "cost=tf.reduce_mean(tf.square(hypothesis-Y))\n",
    "optimizer = tf.train.GradientDescentOptimizer(learning_rate=0.000000001) # 2차 함수 : 0.000000001\n",
    "train=optimizer.minimize(cost)\n",
    "sess=tf.Session()\n",
    "sess.run(tf.global_variables_initializer())"
   ]
  },
  {
   "cell_type": "code",
   "execution_count": 4,
   "metadata": {},
   "outputs": [
    {
     "name": "stdout",
     "output_type": "stream",
     "text": [
      "0 Cost:  55460584.0 \n",
      "Prediction:\n",
      " [2093.8708 2108.8833 2108.8833 2108.8833 2093.8708 2108.8833 2123.9238\n",
      " 2108.8833 2583.294  3318.8398 4039.3003 4770.4644 5270.054  5794.2153\n",
      " 6193.5767 6591.328  6930.6895 7176.4033 7450.5625 7682.581  7873.873\n",
      " 8056.4653 8228.469  8387.6875 8497.186  8575.605  8676.005  8737.145\n",
      " 8796.637  8838.6045 8866.308  8885.661  8893.566  8896.706  8888.464\n",
      " 8876.439  8868.413  8829.078  8842.159  8770.874  8716.669  8678.726\n",
      " 8636.5    8750.51   8556.09   8501.498  8462.335  8377.061  8120.0713\n",
      " 8230.744  8230.744  8176.7754 8120.0713 8090.673  8029.7314 7932.783\n",
      " 7898.9463 7898.9463 7792.7275 7792.7275 7755.711  7717.869  7679.1875\n",
      " 7639.66  ] \n",
      "W1:[1.2714144],B:[0.6657796]\n",
      "1000 Cost:  0.09172905 \n",
      "Prediction:\n",
      " [0.59630334 0.5962291  0.5962291  0.5962291  0.59630334 0.5962291\n",
      " 0.59616154 0.5962291  0.59757143 0.6152493  0.6542654  0.72099197\n",
      " 0.7860812  0.87566483 0.96199584 1.0674663  1.1767552  1.2697992\n",
      " 1.3910232  1.5118418  1.6277516  1.7564008  1.8992258  2.0578597\n",
      " 2.1883144  2.2972026  2.4649928  2.5917003  2.7466316  2.8917158\n",
      " 3.0236676  3.163091   3.2604213  3.3358285  3.603008   3.7171168\n",
      " 3.7758124  3.990274   3.9275308  4.2196364  4.3932467  4.5015473\n",
      " 4.613079   4.2880683  4.8064613  4.9271812  5.00969    5.179751\n",
      " 5.6362653  5.4480696  5.4480696  5.5412025  5.6362653  5.6845326\n",
      " 5.7825627  5.9334598  5.9848146  5.9848146  6.1421103  6.1421103\n",
      " 6.195643   6.249742   6.304412   6.359657  ] \n",
      "W1:[-7.3024756e-05],B:[0.66549796]\n",
      "2000 Cost:  0.067390524 \n",
      "Prediction:\n",
      " [0.5013633  0.50064564 0.50064564 0.50064564 0.5013633  0.50064564\n",
      " 0.49993423 0.50064564 0.48198685 0.47004303 0.48197782 0.5236372\n",
      " 0.5733349  0.6486665  0.7257487  0.8237432  0.9283729  1.0192826\n",
      " 1.1396756  1.2614145  1.3795347  1.511898   1.6601486  1.8261583\n",
      " 1.9635873  2.078848   2.2573242  2.3927238  2.5589306  2.7151568\n",
      " 2.8576858  3.0087063  3.1143699  3.19636    3.4876852  3.6124673\n",
      " 3.6767306  3.911961   3.8430753  4.16422    4.355592   4.475148\n",
      " 4.598404   4.2396107  4.81242    4.9462075  5.0377254  5.22655\n",
      " 5.734623   5.5249715  5.5249715  5.628689   5.734623   5.7884355\n",
      " 5.8977814  6.06623    6.1235933  6.1235933  6.299404   6.299404\n",
      " 6.359275   6.419797   6.480976   6.5428176 ] \n",
      "W1:[-0.00013345],B:[0.66549796]\n",
      "3000 Cost:  0.06739052 \n",
      "Prediction:\n",
      " [0.50135934 0.5006417  0.5006417  0.5006417  0.50135934 0.5006417\n",
      " 0.49993023 0.5006417  0.48198202 0.47003704 0.48197067 0.52362895\n",
      " 0.57332605 0.648657   0.7257389  0.82373315 0.9283626  1.0192723\n",
      " 1.1396651  1.261404   1.3795245  1.5118878  1.6601386  1.8261485\n",
      " 1.9635782  2.0788388  2.2573154  2.3927155  2.5589228  2.7151492\n",
      " 2.8576787  3.0086997  3.1143637  3.1963544  3.4876804  3.612463\n",
      " 3.6767266  3.9119577  3.843072   4.164218   4.35559    4.4751463\n",
      " 4.598403   4.239609   4.8124204  4.946208   5.0377264  5.2265515\n",
      " 5.734627   5.524975   5.524975   5.6286917  5.734627   5.7884393\n",
      " 5.897786   6.0662346  6.123599   6.123599   6.29941    6.29941\n",
      " 6.3592806  6.4198036  6.4809837  6.5428257 ] \n",
      "W1:[-0.00013345],B:[0.66549796]\n",
      "4000 Cost:  0.06739052 \n",
      "Prediction:\n",
      " [0.50135934 0.5006417  0.5006417  0.5006417  0.50135934 0.5006417\n",
      " 0.49993023 0.5006417  0.48198202 0.47003704 0.48197067 0.52362895\n",
      " 0.57332605 0.648657   0.7257389  0.82373315 0.9283626  1.0192723\n",
      " 1.1396651  1.261404   1.3795245  1.5118878  1.6601386  1.8261485\n",
      " 1.9635782  2.0788388  2.2573154  2.3927155  2.5589228  2.7151492\n",
      " 2.8576787  3.0086997  3.1143637  3.1963544  3.4876804  3.612463\n",
      " 3.6767266  3.9119577  3.843072   4.164218   4.35559    4.4751463\n",
      " 4.598403   4.239609   4.8124204  4.946208   5.0377264  5.2265515\n",
      " 5.734627   5.524975   5.524975   5.6286917  5.734627   5.7884393\n",
      " 5.897786   6.0662346  6.123599   6.123599   6.29941    6.29941\n",
      " 6.3592806  6.4198036  6.4809837  6.5428257 ] \n",
      "W1:[-0.00013345],B:[0.66549796]\n"
     ]
    }
   ],
   "source": [
    "for step in range(5000):\n",
    "    cost_val, hy_val, _,w1,b = sess.run([cost, hypothesis, train,W1,B],\n",
    "                                   feed_dict={X1:x1,X2:x2, Y:y1})\n",
    "    if step % 1000 == 0:\n",
    "        print(step, \"Cost: \", cost_val, \"\\nPrediction:\\n\", hy_val,\"\\nW1:{},B:{}\".format(w1,b))"
   ]
  },
  {
   "cell_type": "code",
   "execution_count": 5,
   "metadata": {},
   "outputs": [
    {
     "data": {
      "image/png": "[encoded data removed]",
      "text/plain": [
       "<Figure size 432x288 with 1 Axes>"
      ]
     },
     "metadata": {},
     "output_type": "display_data"
    }
   ],
   "source": [
    "# W1:[0.00016793],B:[-0.88223064]\n",
    "\n",
    "plt.figure(1)\n",
    "plt.title('Linear Regression')\n",
    "plt.xlabel('x')\n",
    "plt.ylabel('y')\n",
    "# 주어진 데이터들을 점으로 표시\n",
    "plt.plot(x1,y1, 'ro')\n",
    "# 예측한 일차함수를 직선으로 표시\n",
    "plt.plot(x1,sess.run(B)+x1*sess.run(W1)+x2*sess.run(W2), 'b')\n",
    "# X=5 일때의 계산 값\n",
    "plt.show()"
   ]
  }
 ],
 "metadata": {
  "kernelspec": {
   "display_name": "Python 3",
   "language": "python",
   "name": "python3"
  },
  "language_info": {
   "codemirror_mode": {
    "name": "ipython",
    "version": 3
   },
   "file_extension": ".py",
   "mimetype": "text/x-python",
   "name": "python",
   "nbconvert_exporter": "python",
   "pygments_lexer": "ipython3",
   "version": "3.5.2"
  }
 },
 "nbformat": 4,
 "nbformat_minor": 2
}
