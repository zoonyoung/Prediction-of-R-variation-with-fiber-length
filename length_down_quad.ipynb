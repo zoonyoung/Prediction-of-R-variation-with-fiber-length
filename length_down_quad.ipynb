{
 "cells": [
  {
   "cell_type": "code",
   "execution_count": 6,
   "metadata": {},
   "outputs": [
    {
     "data": {
      "text/plain": [
       "(61, 3)"
      ]
     },
     "execution_count": 6,
     "metadata": {},
     "output_type": "execute_result"
    }
   ],
   "source": [
    "import tensorflow as tf\n",
    "import pandas as pd\n",
    "import numpy as np\n",
    "import matplotlib.pyplot as plt\n",
    "import math\n",
    "%matplotlib inline  \n",
    "data=pd.read_csv(\"dataset/down_data.csv\")\n",
    "data.shape"
   ]
  },
  {
   "cell_type": "code",
   "execution_count": 7,
   "metadata": {},
   "outputs": [],
   "source": [
    "y=data['2'] # length\n",
    "x=data[\"3\"] # Resistance\n",
    "x1=[]\n",
    "y1=[]\n",
    "x2=[]\n",
    "x3=[]\n",
    "for i in range(60):\n",
    "    x1.append(x[i]*0.1) # 2차함수 0.1(down)\n",
    "    y1.append(y[i])\n",
    "    x2.append((x[i]**2)*0.0001) # 2차 함수 : 0.0001(down)\n",
    "    x3.append((x[i]**3)*0.00000001)\n",
    "W1=tf.Variable(tf.random_normal([1]),name='weight1')\n",
    "W2=tf.Variable(tf.random_normal([1]),name='weight2')\n",
    "W3=tf.Variable(tf.random_normal([1]),name='weight3')\n",
    "B=tf.Variable(tf.random_normal([1]),name='bias')\n",
    "X1=tf.placeholder(tf.float32)\n",
    "X2=tf.placeholder(tf.float32)\n",
    "X3=tf.placeholder(tf.float32)\n",
    "Y=tf.placeholder(tf.float32)"
   ]
  },
  {
   "cell_type": "code",
   "execution_count": 8,
   "metadata": {},
   "outputs": [],
   "source": [
    "hypothesis=B+X1*W1+X2*W2\n",
    "cost=tf.reduce_mean(tf.square(hypothesis-Y))\n",
    "optimizer = tf.train.GradientDescentOptimizer(learning_rate=0.000000005) # 2차 함수 :0.000000005(down)\n",
    "train=optimizer.minimize(cost)\n",
    "sess=tf.Session()\n",
    "sess.run(tf.global_variables_initializer())"
   ]
  },
  {
   "cell_type": "code",
   "execution_count": 9,
   "metadata": {},
   "outputs": [
    {
     "name": "stdout",
     "output_type": "stream",
     "text": [
      "0 Cost:  4968355.0 \n",
      "Prediction:\n",
      " [-5008.856    -4780.0947   -4598.4824   -4458.789    -4323.847\n",
      " -4193.468    -3827.8909   -3886.2803   -3799.0608   -3658.4539\n",
      " -3471.133    -3197.6042   -3221.4749   -3081.089    -2904.073\n",
      " -2819.6917   -2639.233    -2507.3582   -2365.0906   -2215.0745\n",
      " -2090.0156   -1957.972    -1861.1877   -1706.3994   -1622.1476\n",
      " -1498.0438   -1393.3741   -1314.8112   -1249.6089   -1144.9883\n",
      " -1056.446     -967.2103    -885.00836   -797.21686   -717.3581\n",
      "  -649.6499    -583.046     -518.28357   -459.70477   -400.05182\n",
      "  -349.79358   -296.7439    -252.42538   -215.30826   -182.33047\n",
      "  -156.34592   -142.0436    -140.51166   -135.98114   -133.01523\n",
      "  -131.54909   -131.54909   -130.09338   -130.09338   -128.64806\n",
      "  -128.64806   -125.789406  -127.21308   -127.21308   -127.21308 ] \n",
      "W1:[-0.30697086],B:[1.8832272]\n",
      "5000 Cost:  31.109428 \n",
      "Prediction:\n",
      " [16.76635    15.104153   13.803593   12.815392   11.871365   10.969574\n",
      "  8.499317    8.887775    8.308407    7.386093    6.1810493   4.4743824\n",
      "  4.620653    3.7681923   2.7212982   2.2340107   1.2193756   0.50338745\n",
      " -0.24268723 -0.99710464 -1.5982723  -2.2029533  -2.6247787  -3.257843\n",
      " -3.5788193  -4.017867   -4.3536167  -4.582576   -4.756172   -5.000432\n",
      " -5.170395   -5.3030033  -5.3861437  -5.427493   -5.415824   -5.363128\n",
      " -5.266625   -5.1230226  -4.943125   -4.7013483  -4.4421816  -4.100735\n",
      " -3.7489197  -3.395555   -3.025135   -2.6864796  -2.4787261  -2.4554586\n",
      " -2.3854225  -2.3385518  -2.3150744  -2.3150744  -2.2915583  -2.2915583\n",
      " -2.2680051  -2.2680051  -2.2208047  -2.2444148  -2.2444148  -2.2444148 ] \n",
      "W1:[-0.02571004],B:[1.8839686]\n",
      "10000 Cost:  0.86240417 \n",
      "Prediction:\n",
      " [8.444274  8.018884  7.683607  7.4272776 7.181019  6.9444084 6.288436\n",
      " 6.3924265 6.2372046 5.988466  5.660123  5.1874557 5.228363  4.988778\n",
      " 4.6902647 4.549473  4.251894  4.0376954 3.80999   3.574019  3.380858\n",
      " 3.1807601 3.0368342 2.8119752 2.6926074 2.5211003 2.3808758 2.2785788\n",
      " 2.1957824 2.0673227 1.9633138 1.8634458 1.7764472 1.6896102 1.6169323\n",
      " 1.5607954 1.5112954 1.4695392 1.4381754 1.4137404 1.4002585 1.3947238\n",
      " 1.3986264 1.4094164 1.4262357 1.4454813 1.4588095 1.460367  1.4651303\n",
      " 1.4683795 1.4700251 1.4700251 1.4716852 1.4716852 1.4733598 1.4733598\n",
      " 1.4767509 1.4750489 1.4750489 1.4750489] \n",
      "W1:[-0.00300821],B:[1.8839686]\n",
      "15000 Cost:  0.6398853 \n",
      "Prediction:\n",
      " [7.7304792 7.411171  7.1586885 6.965132  6.7787223 6.5991654 6.098806\n",
      " 6.178398  6.059555  5.8685894 5.615443  5.248617  5.2804875 5.0934696\n",
      " 4.8591456 4.7480736 4.511997  4.3408375 4.1575933 3.9660897 3.8079243\n",
      " 3.642528  3.5224378 3.332591  3.230515  3.0819557 2.9585018 2.8670683\n",
      " 2.7920601 2.673533  2.5751805 2.4781208 2.3907914 2.300053  2.2201405\n",
      " 2.1546688 2.0926461 2.0349913 1.9855074 1.9382389 1.9013717 1.8660759\n",
      " 1.8401377 1.8215446 1.8080351 1.7998846 1.7965366 1.7962321 1.7953969\n",
      " 1.7949046 1.7946776 1.7946776 1.7944632 1.7944632 1.7942612 1.7942612\n",
      " 1.7938948 1.7940718 1.7940718 1.7940718] \n",
      "W1:[-0.00106104],B:[1.8839686]\n",
      "20000 Cost:  0.6382484 \n",
      "Prediction:\n",
      " [7.6692553 7.3590455 7.113665  6.9254932 6.7442164 6.569553  6.082541\n",
      " 6.1600404 6.0443172 5.858307  5.6116104 5.2538633 5.2849584 5.1024485\n",
      " 4.8736305 4.765107  4.534307  4.3668385 4.1874075 3.9997184 3.8445547\n",
      " 3.6821349 3.5640888 3.3772452 3.2766526 3.1300614 3.008046  2.9175444\n",
      " 2.843204  2.7255287 2.6276617 2.5308428 2.4434848 2.3524115 2.271879\n",
      " 2.2056065 2.1425097 2.083491  2.032453  1.9832262 1.9443531 1.9065048\n",
      " 1.8780072 1.8568938 1.8407828 1.8302824 1.8255042 1.8250399 1.8237245\n",
      " 1.8229114 1.8225237 1.8225237 1.8221486 1.8221486 1.8217857 1.8217857\n",
      " 1.8210969 1.8214351 1.8214351 1.8214351] \n",
      "W1:[-0.00089403],B:[1.8839686]\n",
      "25000 Cost:  0.6382363 \n",
      "Prediction:\n",
      " [7.6640043 7.354575  7.109803  6.922093  6.7412567 6.5670133 6.081146\n",
      " 6.158466  6.0430107 5.857425  5.6112814 5.254313  5.2853417 5.103219\n",
      " 4.874873  4.7665687 4.5362206 4.3690686 4.189965  4.0026026 3.8476963\n",
      " 3.685532  3.5676613 3.3810751 3.2806096 3.1341875 3.0122952 2.9218736\n",
      " 2.8475904 2.7299883 2.632163  2.5353646 2.4480042 2.3569026 2.2763166\n",
      " 2.2099755 2.1467865 2.0876513 2.0364795 1.9870847 1.9480398 1.9099724\n",
      " 1.8812551 1.8599257 1.8435916 1.8328897 1.8279887 1.8275108 1.8261542\n",
      " 1.8253134 1.8249121 1.8249121 1.8245231 1.8245231 1.8241465 1.8241465\n",
      " 1.8234301 1.8237821 1.8237821 1.8237821] \n",
      "W1:[-0.0008797],B:[1.8839686]\n",
      "30000 Cost:  0.6382362 \n",
      "Prediction:\n",
      " [7.6635566 7.354194  7.109474  6.9218035 6.741004  6.5667973 6.0810266\n",
      " 6.158332  6.042899  5.8573503 5.6112537 5.254351  5.285374  5.1032844\n",
      " 4.874979  4.766693  4.536383  4.3692584 4.1901827 4.002848  3.847964\n",
      " 3.6858213 3.5679655 3.3814015 3.280947  3.1345391 3.0126572 2.9222424\n",
      " 2.8479643 2.7303684 2.6325467 2.53575   2.4483895 2.357285  2.2766945\n",
      " 2.2103477 2.147151  2.0880055 2.0368228 1.9874136 1.9483539 1.9102678\n",
      " 1.881532  1.860184  1.843831  1.8331118 1.8282005 1.8277214 1.8263613\n",
      " 1.8255181 1.8251157 1.8251157 1.8247255 1.8247255 1.8243476 1.8243476\n",
      " 1.8236288 1.823982  1.823982  1.823982 ] \n",
      "W1:[-0.00087848],B:[1.8839686]\n"
     ]
    }
   ],
   "source": [
    "for step in range(35000): # 35000번\n",
    "    cost_val, hy_val, _,w1,b = sess.run([cost, hypothesis, train,W1,B],\n",
    "                                   feed_dict={X1:x1,X2:x2, Y:y1})\n",
    "    if step % 5000 == 0:\n",
    "        print(step, \"Cost: \", cost_val, \"\\nPrediction:\\n\", hy_val,\"\\nW1:{},B:{}\".format(w1,b))"
   ]
  },
  {
   "cell_type": "code",
   "execution_count": 10,
   "metadata": {},
   "outputs": [
    {
     "data": {
      "image/png": "[encoded data removed]",
      "text/plain": [
       "<Figure size 432x288 with 1 Axes>"
      ]
     },
     "metadata": {},
     "output_type": "display_data"
    }
   ],
   "source": [
    "# W1:[0.00108227],B:[1.1958917]\n",
    "\n",
    "plt.figure(1)\n",
    "plt.title('Linear Regression')\n",
    "plt.xlabel('x')\n",
    "plt.ylabel('y')\n",
    "# 주어진 데이터들을 점으로 표시\n",
    "plt.plot(x1,y1, 'ro')\n",
    "# 예측한 일차함수를 직선으로 표시\n",
    "plt.plot(x1,sess.run(B)+x1*sess.run(W1)+x2*sess.run(W2), 'b')\n",
    "# X=5 일때의 계산 값\n",
    "plt.show()"
   ]
  },
  {
   "cell_type": "code",
   "execution_count": null,
   "metadata": {},
   "outputs": [],
   "source": []
  },
  {
   "cell_type": "code",
   "execution_count": null,
   "metadata": {},
   "outputs": [],
   "source": []
  }
 ],
 "metadata": {
  "kernelspec": {
   "display_name": "Python 3",
   "language": "python",
   "name": "python3"
  },
  "language_info": {
   "codemirror_mode": {
    "name": "ipython",
    "version": 3
   },
   "file_extension": ".py",
   "mimetype": "text/x-python",
   "name": "python",
   "nbconvert_exporter": "python",
   "pygments_lexer": "ipython3",
   "version": "3.5.2"
  }
 },
 "nbformat": 4,
 "nbformat_minor": 2
}
