{
 "cells": [
  {
   "cell_type": "code",
   "execution_count": 11,
   "metadata": {},
   "outputs": [
    {
     "data": {
      "text/plain": [
       "(61, 3)"
      ]
     },
     "execution_count": 11,
     "metadata": {},
     "output_type": "execute_result"
    }
   ],
   "source": [
    "import tensorflow as tf\n",
    "import pandas as pd\n",
    "import numpy as np\n",
    "import matplotlib.pyplot as plt\n",
    "import math\n",
    "%matplotlib inline  \n",
    "data=pd.read_csv(\"dataset/down_data.csv\")\n",
    "data.shape"
   ]
  },
  {
   "cell_type": "code",
   "execution_count": 12,
   "metadata": {},
   "outputs": [],
   "source": [
    "y=data['2'] # length\n",
    "x=data[\"3\"] # Resistance\n",
    "x1=[]\n",
    "y1=[]\n",
    "x2=[]\n",
    "x3=[]\n",
    "for i in range(60):\n",
    "    x1.append(x[i]*0.1) # 2차함수 0.1(down)\n",
    "    y1.append(y[i])\n",
    "    x2.append((x[i]**2)*0.0001) # 2차 함수 : 0.0001(down)\n",
    "    x3.append((x[i]**3)*0.00000001)\n",
    "W1=tf.Variable(tf.random_normal([1]),name='weight1')\n",
    "W2=tf.Variable(tf.random_normal([1]),name='weight2')\n",
    "W3=tf.Variable(tf.random_normal([1]),name='weight3')\n",
    "B=tf.Variable(tf.random_normal([1]),name='bias')\n",
    "X1=tf.placeholder(tf.float32)\n",
    "X2=tf.placeholder(tf.float32)\n",
    "X3=tf.placeholder(tf.float32)\n",
    "Y=tf.placeholder(tf.float32)"
   ]
  },
  {
   "cell_type": "code",
   "execution_count": 13,
   "metadata": {},
   "outputs": [],
   "source": [
    "hypothesis=B+X1*W1+X2*W2\n",
    "cost=tf.reduce_mean(tf.square(hypothesis-Y))\n",
    "optimizer = tf.train.GradientDescentOptimizer(learning_rate=0.000000005) # 2차 함수 :0.000000005(down)\n",
    "train=optimizer.minimize(cost)\n",
    "sess=tf.Session()\n",
    "sess.run(tf.global_variables_initializer())"
   ]
  },
  {
   "cell_type": "code",
   "execution_count": 14,
   "metadata": {},
   "outputs": [
    {
     "name": "stdout",
     "output_type": "stream",
     "text": [
      "0 Cost:  288605100.0 \n",
      "Prediction:\n",
      " [38491.758   36709.266   35294.64    34206.848   33156.32    32141.582\n",
      " 29297.787   29751.84    29073.623   27980.56    26524.96    24400.824\n",
      " 24586.127   23496.535   22123.355   21469.082   20070.541   19049.174\n",
      " 17947.99    16787.654   15821.065   14801.261   14054.32    12860.787\n",
      " 12211.747   11256.568   10451.849    9848.432    9348.053    8546.045\n",
      "  7868.2314   7186.0986   6558.7305   5889.915    5282.792    4769.1387\n",
      "  4265.004    3776.0796   3335.1172   2887.566    2511.9175   2117.1401\n",
      "  1789.0386   1515.7516   1274.3854   1085.3989    981.9235    970.8661\n",
      "   938.19653   916.8354    906.2838    906.2838    895.81244   895.81244\n",
      "   885.42114   885.42114   864.8843    875.1095    875.1095    875.1095 ] \n",
      "W1:[1.6776628],B:[-1.2888958]\n",
      "10000 Cost:  6.502767 \n",
      "Prediction:\n",
      " [2.1974354 2.7510033 3.176653  3.4952335 3.7953148 4.0777664 4.8274326\n",
      " 4.7121143 4.883724  5.151903  5.4919853 5.9501705 5.912121  6.130253\n",
      " 6.384989  6.4978952 6.7194157 6.862812  6.9984016 7.1179495 7.197485\n",
      " 7.25965   7.2897015 7.3076057 7.300229  7.2648787 7.210002  7.152092\n",
      " 7.092116  6.971008  6.841847  6.683608  6.5095406 6.289217  6.053051\n",
      " 5.821766  5.5618505 5.2730184 4.975486  4.630002  4.298689  3.8997273\n",
      " 3.5181394 3.1559596 2.7932103 2.4734447 2.2819502 2.2607026 2.1969779\n",
      " 2.1545188 2.1333067 2.1333067 2.1120963 2.1120963 2.0908887 2.0908887\n",
      " 2.0484965 2.0696838 2.0696838 2.0696838] \n",
      "W1:[0.01952651],B:[-1.2933279]\n",
      "20000 Cost:  0.13493899 \n",
      "Prediction:\n",
      " [6.328216   6.2678776  6.2143965  6.1697006  6.123434   6.0757136\n",
      " 5.9248347  5.950714   5.9117947  5.8456326  5.7505546  5.5962234\n",
      " 5.610472   5.5243955  5.4076633  5.3485813  5.2141805  5.1085052\n",
      " 4.9867954  4.849004   4.7260184  4.587365   4.479477   4.2947636\n",
      " 4.187316   4.0191665  3.867238   3.7464583  3.6414118  3.4628253\n",
      " 3.3009264  3.1264374  2.9542842  2.7565393  2.5622396  2.384976\n",
      " 2.197531   2.0007038  1.8080342  1.594688   1.3987083  1.1719762\n",
      " 0.9630792  0.770942   0.5837075  0.42248535 0.327497   0.31702563\n",
      " 0.2856995  0.26489285 0.25451732 0.25451732 0.24415569 0.24415569\n",
      " 0.23380773 0.23380773 0.21316096 0.22347374 0.22347374 0.22347374] \n",
      "W1:[0.00825813],B:[-1.2933279]\n"
     ]
    }
   ],
   "source": [
    "for step in range(30000): # 35000번\n",
    "    cost_val, hy_val, _,w1,b = sess.run([cost, hypothesis, train,W1,B],\n",
    "                                   feed_dict={X1:x1,X2:x2, Y:y1})\n",
    "    if step % 10000 == 0:\n",
    "        print(step, \"Cost: \", cost_val, \"\\nPrediction:\\n\", hy_val,\"\\nW1:{},B:{}\".format(w1,b))"
   ]
  },
  {
   "cell_type": "code",
   "execution_count": 15,
   "metadata": {},
   "outputs": [
    {
     "data": {
      "image/png": "[encoded data removed]",
      "text/plain": [
       "<Figure size 432x288 with 1 Axes>"
      ]
     },
     "metadata": {},
     "output_type": "display_data"
    }
   ],
   "source": [
    "# W1:[0.00108227],B:[1.1958917]\n",
    "\n",
    "plt.figure(1)\n",
    "plt.title('Linear Regression')\n",
    "plt.xlabel('x')\n",
    "plt.ylabel('y')\n",
    "# 주어진 데이터들을 점으로 표시\n",
    "plt.plot(x1,y1, 'ro')\n",
    "# 예측한 일차함수를 직선으로 표시\n",
    "plt.plot(x1,sess.run(B)+x1*sess.run(W1)+x2*sess.run(W2), 'b')\n",
    "# X=5 일때의 계산 값\n",
    "plt.show()"
   ]
  },
  {
   "cell_type": "code",
   "execution_count": null,
   "metadata": {},
   "outputs": [],
   "source": []
  },
  {
   "cell_type": "code",
   "execution_count": null,
   "metadata": {},
   "outputs": [],
   "source": []
  }
 ],
 "metadata": {
  "kernelspec": {
   "display_name": "Python 3",
   "language": "python",
   "name": "python3"
  },
  "language_info": {
   "codemirror_mode": {
    "name": "ipython",
    "version": 3
   },
   "file_extension": ".py",
   "mimetype": "text/x-python",
   "name": "python",
   "nbconvert_exporter": "python",
   "pygments_lexer": "ipython3",
   "version": "3.5.2"
  }
 },
 "nbformat": 4,
 "nbformat_minor": 2
}
