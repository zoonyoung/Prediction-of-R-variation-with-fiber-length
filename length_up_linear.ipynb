{
 "cells": [
  {
   "cell_type": "code",
   "execution_count": 1,
   "metadata": {},
   "outputs": [
    {
     "data": {
      "text/plain": [
       "(65, 3)"
      ]
     },
     "execution_count": 1,
     "metadata": {},
     "output_type": "execute_result"
    }
   ],
   "source": [
    "import tensorflow as tf\n",
    "import pandas as pd\n",
    "import numpy as np\n",
    "import matplotlib.pyplot as plt\n",
    "import math\n",
    "%matplotlib inline  \n",
    "data=pd.read_csv(\"dataset/up_data.csv\")\n",
    "data.shape"
   ]
  },
  {
   "cell_type": "code",
   "execution_count": 2,
   "metadata": {},
   "outputs": [],
   "source": [
    "y=data['2'] # length\n",
    "x=data[\"3\"] # Resistance\n",
    "x1=[]\n",
    "y1=[]\n",
    "x2=[]\n",
    "x3=[]\n",
    "for i in range(64):\n",
    "    x1.append(x[i])\n",
    "    y1.append(y[i])\n",
    "    x2.append((x[i]**2)*0.0001) # 2차 함수 : 0.0001\n",
    "    x3.append((x[i]**3)*0.00000001)\n",
    "W1=tf.Variable(tf.random_normal([1]),name='weight1')\n",
    "W2=tf.Variable(tf.random_normal([1]),name='weight2')\n",
    "W3=tf.Variable(tf.random_normal([1]),name='weight3')\n",
    "B=tf.Variable(tf.random_normal([1]),name='bias')\n",
    "X1=tf.placeholder(tf.float32)\n",
    "X2=tf.placeholder(tf.float32)\n",
    "X3=tf.placeholder(tf.float32)\n",
    "Y=tf.placeholder(tf.float32)"
   ]
  },
  {
   "cell_type": "code",
   "execution_count": 3,
   "metadata": {},
   "outputs": [],
   "source": [
    "hypothesis=B+X1*W1\n",
    "cost=tf.reduce_mean(tf.square(hypothesis-Y))\n",
    "optimizer = tf.train.GradientDescentOptimizer(learning_rate=0.000000001) # 2차 함수 : 0.000000001\n",
    "train=optimizer.minimize(cost)\n",
    "sess=tf.Session()\n",
    "sess.run(tf.global_variables_initializer())"
   ]
  },
  {
   "cell_type": "code",
   "execution_count": 4,
   "metadata": {},
   "outputs": [
    {
     "name": "stdout",
     "output_type": "stream",
     "text": [
      "0 Cost:  102381410.0 \n",
      "Prediction:\n",
      " [ 1322.9363  1333.1292  1333.1292  1333.1292  1322.9363  1333.1292\n",
      "  1343.352   1333.1292  1661.2444  2195.388   2753.9458  3365.0215\n",
      "  3814.3335  4320.4487  4735.5234  5180.686   5591.958   5912.4155\n",
      "  6298.3447  6654.662   6974.9985  7310.122   7661.0757  8029.011\n",
      "  8316.86    8548.208   8890.658   9139.178   9432.565   9697.863\n",
      "  9931.958  10172.495  10336.561  10461.62   10891.421  11069.143\n",
      " 11159.293  11481.811  11388.536  11815.652  12061.372  12211.819\n",
      " 12364.59   11913.196  12624.531  12783.783  12891.3545 13109.945\n",
      " 13677.442  13446.744  13446.744  13561.461  13677.442  13735.913\n",
      " 13853.821  14033.156  14093.612  14093.612  14277.007  14277.007\n",
      " 14338.827  14401.002  14463.531  14526.417 ] \n",
      "W1:[0.7544613],B:[-2.3503275]\n",
      "2000 Cost:  0.5648013 \n",
      "Prediction:\n",
      " [-1.58385    -1.5779546  -1.5779546  -1.5779546  -1.58385    -1.5779546\n",
      " -1.5720417  -1.5779546  -1.3881774  -1.0792361  -0.75617397 -0.4027362\n",
      " -0.14286041  0.14986968  0.38994312  0.647419    0.885293    1.070641\n",
      "  1.2938573   1.4999464   1.6852245   1.8790555   2.0820422   2.2948508\n",
      "  2.4613395   2.5951476   2.7932162   2.9369564   3.1066475   3.2600923\n",
      "  3.3954897   3.5346131   3.629506    3.7018385   3.95043     4.053221\n",
      "  4.1053634   4.2919025   4.237954    4.484992    4.627113    4.71413\n",
      "  4.80249     4.5414104   4.952837    5.0449457   5.1071634   5.2335935\n",
      "  5.561826    5.4283934   5.4283934   5.494744    5.561826    5.595645\n",
      "  5.6638417   5.767566    5.8025327   5.8025327   5.908606    5.908606\n",
      "  5.944361    5.9803233   6.0164886   6.0528607 ] \n",
      "W1:[0.00043637],B:[-2.3503776]\n",
      "4000 Cost:  0.5648013 \n",
      "Prediction:\n",
      " [-1.58385    -1.5779546  -1.5779546  -1.5779546  -1.58385    -1.5779546\n",
      " -1.5720417  -1.5779546  -1.3881774  -1.0792361  -0.75617397 -0.4027362\n",
      " -0.14286041  0.14986968  0.38994312  0.647419    0.885293    1.070641\n",
      "  1.2938573   1.4999464   1.6852245   1.8790555   2.0820422   2.2948508\n",
      "  2.4613395   2.5951476   2.7932162   2.9369564   3.1066475   3.2600923\n",
      "  3.3954897   3.5346131   3.629506    3.7018385   3.95043     4.053221\n",
      "  4.1053634   4.2919025   4.237954    4.484992    4.627113    4.71413\n",
      "  4.80249     4.5414104   4.952837    5.0449457   5.1071634   5.2335935\n",
      "  5.561826    5.4283934   5.4283934   5.494744    5.561826    5.595645\n",
      "  5.6638417   5.767566    5.8025327   5.8025327   5.908606    5.908606\n",
      "  5.944361    5.9803233   6.0164886   6.0528607 ] \n",
      "W1:[0.00043637],B:[-2.3503776]\n",
      "6000 Cost:  0.5648013 \n",
      "Prediction:\n",
      " [-1.58385    -1.5779546  -1.5779546  -1.5779546  -1.58385    -1.5779546\n",
      " -1.5720417  -1.5779546  -1.3881774  -1.0792361  -0.75617397 -0.4027362\n",
      " -0.14286041  0.14986968  0.38994312  0.647419    0.885293    1.070641\n",
      "  1.2938573   1.4999464   1.6852245   1.8790555   2.0820422   2.2948508\n",
      "  2.4613395   2.5951476   2.7932162   2.9369564   3.1066475   3.2600923\n",
      "  3.3954897   3.5346131   3.629506    3.7018385   3.95043     4.053221\n",
      "  4.1053634   4.2919025   4.237954    4.484992    4.627113    4.71413\n",
      "  4.80249     4.5414104   4.952837    5.0449457   5.1071634   5.2335935\n",
      "  5.561826    5.4283934   5.4283934   5.494744    5.561826    5.595645\n",
      "  5.6638417   5.767566    5.8025327   5.8025327   5.908606    5.908606\n",
      "  5.944361    5.9803233   6.0164886   6.0528607 ] \n",
      "W1:[0.00043637],B:[-2.3503776]\n",
      "8000 Cost:  0.5648013 \n",
      "Prediction:\n",
      " [-1.58385    -1.5779546  -1.5779546  -1.5779546  -1.58385    -1.5779546\n",
      " -1.5720417  -1.5779546  -1.3881774  -1.0792361  -0.75617397 -0.4027362\n",
      " -0.14286041  0.14986968  0.38994312  0.647419    0.885293    1.070641\n",
      "  1.2938573   1.4999464   1.6852245   1.8790555   2.0820422   2.2948508\n",
      "  2.4613395   2.5951476   2.7932162   2.9369564   3.1066475   3.2600923\n",
      "  3.3954897   3.5346131   3.629506    3.7018385   3.95043     4.053221\n",
      "  4.1053634   4.2919025   4.237954    4.484992    4.627113    4.71413\n",
      "  4.80249     4.5414104   4.952837    5.0449457   5.1071634   5.2335935\n",
      "  5.561826    5.4283934   5.4283934   5.494744    5.561826    5.595645\n",
      "  5.6638417   5.767566    5.8025327   5.8025327   5.908606    5.908606\n",
      "  5.944361    5.9803233   6.0164886   6.0528607 ] \n",
      "W1:[0.00043637],B:[-2.3503776]\n"
     ]
    }
   ],
   "source": [
    "for step in range(10000):\n",
    "    cost_val, hy_val, _,w1,b = sess.run([cost, hypothesis, train,W1,B],\n",
    "                                   feed_dict={X1:x1, Y:y1})\n",
    "    if step % 2000 == 0:\n",
    "        print(step, \"Cost: \", cost_val, \"\\nPrediction:\\n\", hy_val,\"\\nW1:{},B:{}\".format(w1,b))"
   ]
  },
  {
   "cell_type": "code",
   "execution_count": 5,
   "metadata": {},
   "outputs": [
    {
     "data": {
      "image/png": "[encoded data removed]",
      "text/plain": [
       "<Figure size 432x288 with 1 Axes>"
      ]
     },
     "metadata": {},
     "output_type": "display_data"
    }
   ],
   "source": [
    "# W1:[0.00016793],B:[-0.88223064]\n",
    "\n",
    "plt.figure(1)\n",
    "plt.title('Linear Regression')\n",
    "plt.xlabel('x')\n",
    "plt.ylabel('y')\n",
    "# 주어진 데이터들을 점으로 표시\n",
    "plt.plot(x1,y1, 'ro')\n",
    "# 예측한 일차함수를 직선으로 표시\n",
    "plt.plot(x1,sess.run(B)+x1*sess.run(W1), 'b')\n",
    "# X=5 일때의 계산 값\n",
    "plt.show()"
   ]
  }
 ],
 "metadata": {
  "kernelspec": {
   "display_name": "Python 3",
   "language": "python",
   "name": "python3"
  },
  "language_info": {
   "codemirror_mode": {
    "name": "ipython",
    "version": 3
   },
   "file_extension": ".py",
   "mimetype": "text/x-python",
   "name": "python",
   "nbconvert_exporter": "python",
   "pygments_lexer": "ipython3",
   "version": "3.5.2"
  }
 },
 "nbformat": 4,
 "nbformat_minor": 2
}
